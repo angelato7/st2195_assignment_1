{
 "cells": [
  {
   "cell_type": "markdown",
   "id": "afb2c460",
   "metadata": {},
   "source": [
    "## This is my program to print integers from 1 to 10 "
   ]
  },
  {
   "cell_type": "markdown",
   "id": "8173cf01",
   "metadata": {},
   "source": [
    "**Printing integers 1 to 10 without using loop**"
   ]
  },
  {
   "cell_type": "code",
   "execution_count": null,
   "id": "8c4af8e9",
   "metadata": {},
   "outputs": [],
   "source": [
    "print(1, 2, 3, 4, 5, 6, 7, 8, 9, 10)"
   ]
  },
  {
   "cell_type": "markdown",
   "id": "50aa7007",
   "metadata": {},
   "source": [
    "**Printing integers 1 to 10 using loop**"
   ]
  },
  {
   "cell_type": "code",
   "execution_count": null,
   "id": "ecf5fb78",
   "metadata": {},
   "outputs": [],
   "source": [
    "# using a for loop\n",
    "for i in range(1,11):\n",
    "    print(i)"
   ]
  },
  {
   "cell_type": "code",
   "execution_count": null,
   "id": "50c17ff4",
   "metadata": {},
   "outputs": [],
   "source": [
    "# using a for loop (variation of print)\n",
    "for i in range(1,11):\n",
    "    print(i, end=\" \")"
   ]
  },
  {
   "cell_type": "code",
   "execution_count": null,
   "id": "3efb96ca",
   "metadata": {},
   "outputs": [],
   "source": [
    "# using a while loop\n",
    "x = 1 \n",
    "while x <= 10:\n",
    "    print(x)\n",
    "    x = x + 1"
   ]
  }
 ],
 "metadata": {
  "kernelspec": {
   "display_name": "Python 3 (ipykernel)",
   "language": "python",
   "name": "python3"
  },
  "language_info": {
   "codemirror_mode": {
    "name": "ipython",
    "version": 3
   },
   "file_extension": ".py",
   "mimetype": "text/x-python",
   "name": "python",
   "nbconvert_exporter": "python",
   "pygments_lexer": "ipython3",
   "version": "3.9.16"
  }
 },
 "nbformat": 4,
 "nbformat_minor": 5
}
